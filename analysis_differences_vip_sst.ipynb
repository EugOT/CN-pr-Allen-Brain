{
 "cells": [
  {
   "cell_type": "markdown",
   "metadata": {},
   "source": [
    "# Differences in VIP & SST neural populations"
   ]
  },
  {
   "cell_type": "markdown",
   "metadata": {},
   "source": [
    "In this notebook, we use various analyses to try to find out whether there are differences between VIP and SST neural populations and, if so, what these differences are. \n",
    "As we have already seen, the VIP and SST neural populations can be seen as an interplay or control system which, among other things, maintains the balance in the brain, so further analyses are very interesting (see also `vip_sst_neurons.md`)."
   ]
  },
  {
   "cell_type": "markdown",
   "metadata": {},
   "source": [
    "## Import & Data Processing"
   ]
  },
  {
   "cell_type": "code",
   "execution_count": 1,
   "metadata": {},
   "outputs": [
    {
     "name": "stdout",
     "output_type": "stream",
     "text": [
      "Collecting pyarrow\n",
      "  Downloading pyarrow-19.0.0-cp39-cp39-win_amd64.whl.metadata (3.4 kB)\n",
      "Downloading pyarrow-19.0.0-cp39-cp39-win_amd64.whl (25.5 MB)\n",
      "   ---------------------------------------- 0.0/25.5 MB ? eta -:--:--\n",
      "   --- ------------------------------------ 2.4/25.5 MB 13.4 MB/s eta 0:00:02\n",
      "   ---- ----------------------------------- 3.1/25.5 MB 13.2 MB/s eta 0:00:02\n",
      "   ---- ----------------------------------- 3.1/25.5 MB 13.2 MB/s eta 0:00:02\n",
      "   ---- ----------------------------------- 3.1/25.5 MB 13.2 MB/s eta 0:00:02\n",
      "   ---- ----------------------------------- 3.1/25.5 MB 13.2 MB/s eta 0:00:02\n",
      "   ---- ----------------------------------- 3.1/25.5 MB 13.2 MB/s eta 0:00:02\n",
      "   ---- ----------------------------------- 3.1/25.5 MB 13.2 MB/s eta 0:00:02\n",
      "   ---- ----------------------------------- 3.1/25.5 MB 13.2 MB/s eta 0:00:02\n",
      "   ---- ----------------------------------- 3.1/25.5 MB 13.2 MB/s eta 0:00:02\n",
      "   ---- ----------------------------------- 3.1/25.5 MB 13.2 MB/s eta 0:00:02\n",
      "   ---- ----------------------------------- 3.1/25.5 MB 13.2 MB/s eta 0:00:02\n",
      "   ---- ----------------------------------- 3.1/25.5 MB 13.2 MB/s eta 0:00:02\n",
      "   -------- ------------------------------- 5.2/25.5 MB 1.9 MB/s eta 0:00:11\n",
      "   ------------ --------------------------- 8.1/25.5 MB 2.8 MB/s eta 0:00:07\n",
      "   ---------------- ----------------------- 10.5/25.5 MB 3.4 MB/s eta 0:00:05\n",
      "   --------------------- ------------------ 13.4/25.5 MB 4.0 MB/s eta 0:00:04\n",
      "   ------------------------- -------------- 16.0/25.5 MB 4.5 MB/s eta 0:00:03\n",
      "   ----------------------------- ---------- 18.9/25.5 MB 5.0 MB/s eta 0:00:02\n",
      "   --------------------------------- ------ 21.5/25.5 MB 5.4 MB/s eta 0:00:01\n",
      "   ---------------------------------- ----- 22.0/25.5 MB 5.5 MB/s eta 0:00:01\n",
      "   ---------------------------------- ----- 22.0/25.5 MB 5.5 MB/s eta 0:00:01\n",
      "   ---------------------------------- ----- 22.0/25.5 MB 5.5 MB/s eta 0:00:01\n",
      "   ---------------------------------- ----- 22.0/25.5 MB 5.5 MB/s eta 0:00:01\n",
      "   ----------------------------------- ---- 22.5/25.5 MB 4.5 MB/s eta 0:00:01\n",
      "   ------------------------------------ --- 23.1/25.5 MB 4.5 MB/s eta 0:00:01\n",
      "   ------------------------------------ --- 23.1/25.5 MB 4.5 MB/s eta 0:00:01\n",
      "   ------------------------------------ --- 23.1/25.5 MB 4.5 MB/s eta 0:00:01\n",
      "   ------------------------------------ --- 23.1/25.5 MB 4.5 MB/s eta 0:00:01\n",
      "   ------------------------------------ --- 23.1/25.5 MB 4.5 MB/s eta 0:00:01\n",
      "   ------------------------------------ --- 23.1/25.5 MB 4.5 MB/s eta 0:00:01\n",
      "   ------------------------------------ --- 23.1/25.5 MB 4.5 MB/s eta 0:00:01\n",
      "   ------------------------------------ --- 23.1/25.5 MB 4.5 MB/s eta 0:00:01\n",
      "   ------------------------------------ --- 23.1/25.5 MB 4.5 MB/s eta 0:00:01\n",
      "   ------------------------------------ --- 23.1/25.5 MB 4.5 MB/s eta 0:00:01\n",
      "   ------------------------------------ --- 23.1/25.5 MB 4.5 MB/s eta 0:00:01\n",
      "   ---------------------------------------  25.2/25.5 MB 3.3 MB/s eta 0:00:01\n",
      "   ---------------------------------------  25.4/25.5 MB 3.3 MB/s eta 0:00:01\n",
      "   ---------------------------------------  25.4/25.5 MB 3.3 MB/s eta 0:00:01\n",
      "   ---------------------------------------  25.4/25.5 MB 3.3 MB/s eta 0:00:01\n",
      "   ---------------------------------------- 25.5/25.5 MB 3.1 MB/s eta 0:00:00\n",
      "Installing collected packages: pyarrow\n",
      "Successfully installed pyarrow-19.0.0\n"
     ]
    }
   ],
   "source": [
    "# install dependencies\n",
    "\n",
    "!pip install pandas --quiet\n",
    "!pip install pyarrow \n",
    "!pip install seaborn --quiet\n",
    "!pip install requests"
   ]
  },
  {
   "cell_type": "code",
   "execution_count": 2,
   "metadata": {},
   "outputs": [],
   "source": [
    "# imports\n",
    "import numpy as np\n",
    "import pandas as pd\n",
    "import matplotlib.pyplot as plt\n",
    "import seaborn as sns\n",
    "sns.set_context('notebook', font_scale=1.5, rc={'lines.markeredgewidth': 2})"
   ]
  },
  {
   "cell_type": "code",
   "execution_count": 3,
   "metadata": {},
   "outputs": [],
   "source": [
    "# data retrieval\n",
    "import os, requests\n",
    "\n",
    "fname = \"allen_visual_behavior_2p_change_detection_familiar_novel_image_sets.parquet\"\n",
    "url = \"https://ndownloader.figshare.com/files/28470255\"\n",
    "\n",
    "if not os.path.isfile(fname):\n",
    "  try:\n",
    "    r = requests.get(url)\n",
    "  except requests.ConnectionError:\n",
    "    print(\"!!! Failed to download data !!!\")\n",
    "  else:\n",
    "    if r.status_code != requests.codes.ok:\n",
    "      print(\"!!! Failed to download data !!!\")\n",
    "    else:\n",
    "      with open(fname, \"wb\") as fid:\n",
    "        fid.write(r.content)"
   ]
  },
  {
   "cell_type": "code",
   "execution_count": 4,
   "metadata": {},
   "outputs": [],
   "source": [
    "# store the data as a pandas dataframe\n",
    "filename = \"allen_visual_behavior_2p_change_detection_familiar_novel_image_sets.parquet\"\n",
    "data = pd.read_parquet(filename)"
   ]
  },
  {
   "cell_type": "code",
   "execution_count": 5,
   "metadata": {},
   "outputs": [
    {
     "data": {
      "text/html": [
       "<div>\n",
       "<style scoped>\n",
       "    .dataframe tbody tr th:only-of-type {\n",
       "        vertical-align: middle;\n",
       "    }\n",
       "\n",
       "    .dataframe tbody tr th {\n",
       "        vertical-align: top;\n",
       "    }\n",
       "\n",
       "    .dataframe thead th {\n",
       "        text-align: right;\n",
       "    }\n",
       "</style>\n",
       "<table border=\"1\" class=\"dataframe\">\n",
       "  <thead>\n",
       "    <tr style=\"text-align: right;\">\n",
       "      <th></th>\n",
       "      <th>stimulus_presentations_id</th>\n",
       "      <th>cell_specimen_id</th>\n",
       "      <th>trace</th>\n",
       "      <th>trace_timestamps</th>\n",
       "      <th>mean_response</th>\n",
       "      <th>baseline_response</th>\n",
       "      <th>image_name</th>\n",
       "      <th>image_index</th>\n",
       "      <th>is_change</th>\n",
       "      <th>omitted</th>\n",
       "      <th>mean_running_speed</th>\n",
       "      <th>mean_pupil_area</th>\n",
       "      <th>response_latency</th>\n",
       "      <th>rewarded</th>\n",
       "      <th>ophys_experiment_id</th>\n",
       "      <th>imaging_depth</th>\n",
       "      <th>targeted_structure</th>\n",
       "      <th>cre_line</th>\n",
       "      <th>session_type</th>\n",
       "      <th>session_number</th>\n",
       "      <th>mouse_id</th>\n",
       "      <th>ophys_session_id</th>\n",
       "      <th>ophys_container_id</th>\n",
       "      <th>behavior_session_id</th>\n",
       "      <th>full_genotype</th>\n",
       "      <th>reporter_line</th>\n",
       "      <th>driver_line</th>\n",
       "      <th>indicator</th>\n",
       "      <th>sex</th>\n",
       "      <th>age_in_days</th>\n",
       "      <th>exposure_level</th>\n",
       "    </tr>\n",
       "  </thead>\n",
       "  <tbody>\n",
       "    <tr>\n",
       "      <th>608354</th>\n",
       "      <td>2073</td>\n",
       "      <td>1086501538</td>\n",
       "      <td>[0.01927158236503601, -0.05969213321805, 0.048...</td>\n",
       "      <td>[-1.2279815442797712, -1.1956662404829352, -1....</td>\n",
       "      <td>0.005364</td>\n",
       "      <td>0.003647</td>\n",
       "      <td>omitted</td>\n",
       "      <td>8</td>\n",
       "      <td>False</td>\n",
       "      <td>True</td>\n",
       "      <td>-0.060746</td>\n",
       "      <td>3569.258037</td>\n",
       "      <td>NaN</td>\n",
       "      <td>False</td>\n",
       "      <td>993862120</td>\n",
       "      <td>175</td>\n",
       "      <td>VISp</td>\n",
       "      <td>Vip-IRES-Cre</td>\n",
       "      <td>OPHYS_4_images_A</td>\n",
       "      <td>4.0</td>\n",
       "      <td>489066</td>\n",
       "      <td>993668836</td>\n",
       "      <td>991913246</td>\n",
       "      <td>993691759</td>\n",
       "      <td>Vip-IRES-Cre/wt;Ai148(TIT2L-GC6f-ICL-tTA2)/wt</td>\n",
       "      <td>Ai148(TIT2L-GC6f-ICL-tTA2)</td>\n",
       "      <td>[Vip-IRES-Cre]</td>\n",
       "      <td>GCaMP6f</td>\n",
       "      <td>F</td>\n",
       "      <td>129.0</td>\n",
       "      <td>novel</td>\n",
       "    </tr>\n",
       "    <tr>\n",
       "      <th>1231508</th>\n",
       "      <td>3728</td>\n",
       "      <td>1086567017</td>\n",
       "      <td>[0.26466378569602966, 0.030856186524033546, 0....</td>\n",
       "      <td>[-1.2281906028244671, -1.1958697974869812, -1....</td>\n",
       "      <td>0.016521</td>\n",
       "      <td>0.024473</td>\n",
       "      <td>im054</td>\n",
       "      <td>5</td>\n",
       "      <td>True</td>\n",
       "      <td>False</td>\n",
       "      <td>3.738120</td>\n",
       "      <td>7910.495285</td>\n",
       "      <td>NaN</td>\n",
       "      <td>False</td>\n",
       "      <td>1004405226</td>\n",
       "      <td>175</td>\n",
       "      <td>VISp</td>\n",
       "      <td>Vip-IRES-Cre</td>\n",
       "      <td>OPHYS_3_images_B</td>\n",
       "      <td>3.0</td>\n",
       "      <td>492395</td>\n",
       "      <td>1004317427</td>\n",
       "      <td>1000740620</td>\n",
       "      <td>1004344898</td>\n",
       "      <td>Vip-IRES-Cre/wt;Ai148(TIT2L-GC6f-ICL-tTA2)/wt</td>\n",
       "      <td>Ai148(TIT2L-GC6f-ICL-tTA2)</td>\n",
       "      <td>[Vip-IRES-Cre]</td>\n",
       "      <td>GCaMP6f</td>\n",
       "      <td>F</td>\n",
       "      <td>162.0</td>\n",
       "      <td>familiar</td>\n",
       "    </tr>\n",
       "    <tr>\n",
       "      <th>1156834</th>\n",
       "      <td>741</td>\n",
       "      <td>1086557082</td>\n",
       "      <td>[-0.044393379241228104, 0.0316426157951355, -0...</td>\n",
       "      <td>[-1.2281906028244671, -1.1958697974869812, -1....</td>\n",
       "      <td>-0.001479</td>\n",
       "      <td>-0.028631</td>\n",
       "      <td>omitted</td>\n",
       "      <td>8</td>\n",
       "      <td>False</td>\n",
       "      <td>True</td>\n",
       "      <td>0.157272</td>\n",
       "      <td>5058.335805</td>\n",
       "      <td>NaN</td>\n",
       "      <td>False</td>\n",
       "      <td>1004405226</td>\n",
       "      <td>175</td>\n",
       "      <td>VISp</td>\n",
       "      <td>Vip-IRES-Cre</td>\n",
       "      <td>OPHYS_3_images_B</td>\n",
       "      <td>3.0</td>\n",
       "      <td>492395</td>\n",
       "      <td>1004317427</td>\n",
       "      <td>1000740620</td>\n",
       "      <td>1004344898</td>\n",
       "      <td>Vip-IRES-Cre/wt;Ai148(TIT2L-GC6f-ICL-tTA2)/wt</td>\n",
       "      <td>Ai148(TIT2L-GC6f-ICL-tTA2)</td>\n",
       "      <td>[Vip-IRES-Cre]</td>\n",
       "      <td>GCaMP6f</td>\n",
       "      <td>F</td>\n",
       "      <td>162.0</td>\n",
       "      <td>familiar</td>\n",
       "    </tr>\n",
       "    <tr>\n",
       "      <th>1163201</th>\n",
       "      <td>996</td>\n",
       "      <td>1086567897</td>\n",
       "      <td>[-0.04627765715122223, -0.05416109412908554, 0...</td>\n",
       "      <td>[-1.2281906028244671, -1.1958697974869812, -1....</td>\n",
       "      <td>0.195977</td>\n",
       "      <td>-0.023377</td>\n",
       "      <td>im035</td>\n",
       "      <td>7</td>\n",
       "      <td>True</td>\n",
       "      <td>False</td>\n",
       "      <td>-1.527644</td>\n",
       "      <td>6605.610394</td>\n",
       "      <td>NaN</td>\n",
       "      <td>False</td>\n",
       "      <td>1004405226</td>\n",
       "      <td>175</td>\n",
       "      <td>VISp</td>\n",
       "      <td>Vip-IRES-Cre</td>\n",
       "      <td>OPHYS_3_images_B</td>\n",
       "      <td>3.0</td>\n",
       "      <td>492395</td>\n",
       "      <td>1004317427</td>\n",
       "      <td>1000740620</td>\n",
       "      <td>1004344898</td>\n",
       "      <td>Vip-IRES-Cre/wt;Ai148(TIT2L-GC6f-ICL-tTA2)/wt</td>\n",
       "      <td>Ai148(TIT2L-GC6f-ICL-tTA2)</td>\n",
       "      <td>[Vip-IRES-Cre]</td>\n",
       "      <td>GCaMP6f</td>\n",
       "      <td>F</td>\n",
       "      <td>162.0</td>\n",
       "      <td>familiar</td>\n",
       "    </tr>\n",
       "    <tr>\n",
       "      <th>1214870</th>\n",
       "      <td>3063</td>\n",
       "      <td>1086556416</td>\n",
       "      <td>[-0.007173431571573019, 0.07187602669000626, -...</td>\n",
       "      <td>[-1.2281906028244671, -1.1958697974869812, -1....</td>\n",
       "      <td>0.023096</td>\n",
       "      <td>-0.002332</td>\n",
       "      <td>im075</td>\n",
       "      <td>2</td>\n",
       "      <td>True</td>\n",
       "      <td>False</td>\n",
       "      <td>16.197693</td>\n",
       "      <td>7762.219840</td>\n",
       "      <td>NaN</td>\n",
       "      <td>False</td>\n",
       "      <td>1004405226</td>\n",
       "      <td>175</td>\n",
       "      <td>VISp</td>\n",
       "      <td>Vip-IRES-Cre</td>\n",
       "      <td>OPHYS_3_images_B</td>\n",
       "      <td>3.0</td>\n",
       "      <td>492395</td>\n",
       "      <td>1004317427</td>\n",
       "      <td>1000740620</td>\n",
       "      <td>1004344898</td>\n",
       "      <td>Vip-IRES-Cre/wt;Ai148(TIT2L-GC6f-ICL-tTA2)/wt</td>\n",
       "      <td>Ai148(TIT2L-GC6f-ICL-tTA2)</td>\n",
       "      <td>[Vip-IRES-Cre]</td>\n",
       "      <td>GCaMP6f</td>\n",
       "      <td>F</td>\n",
       "      <td>162.0</td>\n",
       "      <td>familiar</td>\n",
       "    </tr>\n",
       "  </tbody>\n",
       "</table>\n",
       "</div>"
      ],
      "text/plain": [
       "         stimulus_presentations_id  cell_specimen_id  \\\n",
       "608354                        2073        1086501538   \n",
       "1231508                       3728        1086567017   \n",
       "1156834                        741        1086557082   \n",
       "1163201                        996        1086567897   \n",
       "1214870                       3063        1086556416   \n",
       "\n",
       "                                                     trace  \\\n",
       "608354   [0.01927158236503601, -0.05969213321805, 0.048...   \n",
       "1231508  [0.26466378569602966, 0.030856186524033546, 0....   \n",
       "1156834  [-0.044393379241228104, 0.0316426157951355, -0...   \n",
       "1163201  [-0.04627765715122223, -0.05416109412908554, 0...   \n",
       "1214870  [-0.007173431571573019, 0.07187602669000626, -...   \n",
       "\n",
       "                                          trace_timestamps  mean_response  \\\n",
       "608354   [-1.2279815442797712, -1.1956662404829352, -1....       0.005364   \n",
       "1231508  [-1.2281906028244671, -1.1958697974869812, -1....       0.016521   \n",
       "1156834  [-1.2281906028244671, -1.1958697974869812, -1....      -0.001479   \n",
       "1163201  [-1.2281906028244671, -1.1958697974869812, -1....       0.195977   \n",
       "1214870  [-1.2281906028244671, -1.1958697974869812, -1....       0.023096   \n",
       "\n",
       "         baseline_response image_name  image_index  is_change  omitted  \\\n",
       "608354            0.003647    omitted            8      False     True   \n",
       "1231508           0.024473      im054            5       True    False   \n",
       "1156834          -0.028631    omitted            8      False     True   \n",
       "1163201          -0.023377      im035            7       True    False   \n",
       "1214870          -0.002332      im075            2       True    False   \n",
       "\n",
       "         mean_running_speed  mean_pupil_area  response_latency  rewarded  \\\n",
       "608354            -0.060746      3569.258037               NaN     False   \n",
       "1231508            3.738120      7910.495285               NaN     False   \n",
       "1156834            0.157272      5058.335805               NaN     False   \n",
       "1163201           -1.527644      6605.610394               NaN     False   \n",
       "1214870           16.197693      7762.219840               NaN     False   \n",
       "\n",
       "         ophys_experiment_id  imaging_depth targeted_structure      cre_line  \\\n",
       "608354             993862120            175               VISp  Vip-IRES-Cre   \n",
       "1231508           1004405226            175               VISp  Vip-IRES-Cre   \n",
       "1156834           1004405226            175               VISp  Vip-IRES-Cre   \n",
       "1163201           1004405226            175               VISp  Vip-IRES-Cre   \n",
       "1214870           1004405226            175               VISp  Vip-IRES-Cre   \n",
       "\n",
       "             session_type  session_number mouse_id  ophys_session_id  \\\n",
       "608354   OPHYS_4_images_A             4.0   489066         993668836   \n",
       "1231508  OPHYS_3_images_B             3.0   492395        1004317427   \n",
       "1156834  OPHYS_3_images_B             3.0   492395        1004317427   \n",
       "1163201  OPHYS_3_images_B             3.0   492395        1004317427   \n",
       "1214870  OPHYS_3_images_B             3.0   492395        1004317427   \n",
       "\n",
       "         ophys_container_id  behavior_session_id  \\\n",
       "608354            991913246            993691759   \n",
       "1231508          1000740620           1004344898   \n",
       "1156834          1000740620           1004344898   \n",
       "1163201          1000740620           1004344898   \n",
       "1214870          1000740620           1004344898   \n",
       "\n",
       "                                         full_genotype  \\\n",
       "608354   Vip-IRES-Cre/wt;Ai148(TIT2L-GC6f-ICL-tTA2)/wt   \n",
       "1231508  Vip-IRES-Cre/wt;Ai148(TIT2L-GC6f-ICL-tTA2)/wt   \n",
       "1156834  Vip-IRES-Cre/wt;Ai148(TIT2L-GC6f-ICL-tTA2)/wt   \n",
       "1163201  Vip-IRES-Cre/wt;Ai148(TIT2L-GC6f-ICL-tTA2)/wt   \n",
       "1214870  Vip-IRES-Cre/wt;Ai148(TIT2L-GC6f-ICL-tTA2)/wt   \n",
       "\n",
       "                      reporter_line     driver_line indicator sex  \\\n",
       "608354   Ai148(TIT2L-GC6f-ICL-tTA2)  [Vip-IRES-Cre]   GCaMP6f   F   \n",
       "1231508  Ai148(TIT2L-GC6f-ICL-tTA2)  [Vip-IRES-Cre]   GCaMP6f   F   \n",
       "1156834  Ai148(TIT2L-GC6f-ICL-tTA2)  [Vip-IRES-Cre]   GCaMP6f   F   \n",
       "1163201  Ai148(TIT2L-GC6f-ICL-tTA2)  [Vip-IRES-Cre]   GCaMP6f   F   \n",
       "1214870  Ai148(TIT2L-GC6f-ICL-tTA2)  [Vip-IRES-Cre]   GCaMP6f   F   \n",
       "\n",
       "         age_in_days exposure_level  \n",
       "608354         129.0          novel  \n",
       "1231508        162.0       familiar  \n",
       "1156834        162.0       familiar  \n",
       "1163201        162.0       familiar  \n",
       "1214870        162.0       familiar  "
      ]
     },
     "execution_count": 5,
     "metadata": {},
     "output_type": "execute_result"
    }
   ],
   "source": [
    "# inspect the data \n",
    "# as we work with the pre processed file, the data only contains the vip and sst neural populations\n",
    "pd.set_option(\"display.max_columns\", None)\n",
    "data.sample(5)"
   ]
  },
  {
   "cell_type": "markdown",
   "metadata": {},
   "source": [
    "## How do VIP and SST neural populations differ in their responses to rewarded and non-rewarded stimuli?"
   ]
  },
  {
   "cell_type": "markdown",
   "metadata": {},
   "source": [
    "As we already know, VIP and SST neurons fulfil different roles:\n",
    "- VIP neurons are involved in disinhibition mechanisms, facilitating the activity of excitatory neurons in certain contexts, such as attention, learning, or reward processing.\n",
    "- SST neurons, on the other hand, contribute to network stabilization by inhibiting pyramidal neurons, which suggests they may play a less direct role in reward processing.\n",
    "\n",
    "Given these functional differences, we hypothesized that VIP and SST neurons differ in their reactions. To test this, we analyze the mean neuronal response (mean_response) in rewarded `(rewarded=True)` and non-rewarded `(rewarded=False)` conditions for both populations."
   ]
  },
  {
   "cell_type": "code",
   "execution_count": 39,
   "metadata": {},
   "outputs": [],
   "source": [
    "# create two datasets, one for vip and one for sst\n",
    "vip_data = data[data['cre_line'].str.contains('Vip')]\n",
    "sst_data = data[data['cre_line'].str.contains('Sst')]"
   ]
  },
  {
   "cell_type": "code",
   "execution_count": null,
   "metadata": {},
   "outputs": [
    {
     "name": "stderr",
     "output_type": "stream",
     "text": [
      "C:\\Users\\iside\\AppData\\Local\\Temp\\ipykernel_28744\\3828652815.py:2: SettingWithCopyWarning: \n",
      "A value is trying to be set on a copy of a slice from a DataFrame.\n",
      "Try using .loc[row_indexer,col_indexer] = value instead\n",
      "\n",
      "See the caveats in the documentation: https://pandas.pydata.org/pandas-docs/stable/user_guide/indexing.html#returning-a-view-versus-a-copy\n",
      "  vip_data['standardized_response'] = vip_data.groupby(['mouse_id'])['mean_response'].transform(lambda x: (x - x.mean()) / x.std())\n",
      "C:\\Users\\iside\\AppData\\Local\\Temp\\ipykernel_28744\\3828652815.py:3: SettingWithCopyWarning: \n",
      "A value is trying to be set on a copy of a slice from a DataFrame.\n",
      "Try using .loc[row_indexer,col_indexer] = value instead\n",
      "\n",
      "See the caveats in the documentation: https://pandas.pydata.org/pandas-docs/stable/user_guide/indexing.html#returning-a-view-versus-a-copy\n",
      "  sst_data['standardized_response'] = sst_data.groupby(['mouse_id'])['mean_response'].transform(lambda x: (x - x.mean()) / x.std())\n"
     ]
    }
   ],
   "source": [
    "# standardize by mouse\n",
    "vip_data['standardized_response'] = vip_data.groupby(['mouse_id'])['mean_response'].transform(lambda x: (x - x.mean()) / x.std())\n",
    "sst_data['standardized_response'] = sst_data.groupby(['mouse_id'])['mean_response'].transform(lambda x: (x - x.mean()) / x.std())"
   ]
  },
  {
   "cell_type": "code",
   "execution_count": 41,
   "metadata": {},
   "outputs": [],
   "source": [
    "# for each group calculate the mean response to rewarded and non-rewarded stimuli along with the standard deviation and sample size\n",
    "rewarded_vip = vip_data.groupby('rewarded')['standardized_response'].agg(['mean', 'std', 'count']).reset_index()\n",
    "rewarded_sst = sst_data.groupby('rewarded')['standardized_response'].agg(['mean', 'std', 'count']).reset_index()\n",
    "\n",
    "# standard error of the mean\n",
    "def calculate_sem(row):\n",
    "    return row['std'] / (row['count'] ** 0.5)\n",
    "\n",
    "rewarded_vip['sem'] = rewarded_vip.apply(calculate_sem, axis=1)\n",
    "rewarded_sst['sem'] = rewarded_sst.apply(calculate_sem, axis=1)"
   ]
  },
  {
   "cell_type": "code",
   "execution_count": 42,
   "metadata": {},
   "outputs": [
    {
     "data": {
      "image/png": "[encoded data removed]",
      "text/plain": [
       "<Figure size 1000x600 with 1 Axes>"
      ]
     },
     "metadata": {},
     "output_type": "display_data"
    }
   ],
   "source": [
    "# visualize the reward-related neural activity\n",
    "plt.figure(figsize=(10, 6))\n",
    "\n",
    "bar_width = 0.35\n",
    "x = np.arange(len(rewarded_vip['rewarded']))\n",
    "\n",
    "# vip\n",
    "plt.bar(x - bar_width/2, rewarded_vip['mean'], yerr=rewarded_vip['sem'], \n",
    "        width=bar_width, label='VIP', color='blue', alpha=0.5, capsize=5)\n",
    "\n",
    "# ssi\n",
    "plt.bar(x + bar_width/2, rewarded_sst['mean'], yerr=rewarded_sst['sem'], \n",
    "        width=bar_width, label='SST', color='orange', alpha=0.5, capsize=5)\n",
    "\n",
    "plt.xlabel('Rewarded')\n",
    "plt.ylabel('Standardized Mean Response')\n",
    "plt.title('Reward-related neural-activity: VIP vs. SST')\n",
    "plt.xticks(x, ['False', 'True'])\n",
    "plt.legend()\n",
    "plt.tight_layout()\n",
    "plt.show()"
   ]
  },
  {
   "cell_type": "markdown",
   "metadata": {},
   "source": [
    "1. The standardised mean response of VIP neurons is positive for rewarded stimuli. This shows that VIP neurons show a strong relative increase in activity with rewarded stimuli compared to baseline activity (which is 0 due to standardisation).\n",
    "The standardised response of VIP neurons is almost neutral (approx. 0) for unrewarded stimuli. This means that there is no significant change in their activity compared to the baseline activity when there is no reward stimulus.\n",
    "2. The standardised mean response of SST neurons is higher than that of VIP neuron for rewarded stimuli. This shows that SST neurons are activated even more strongly than VIP neurons in response to rewarded stimuli relative to baseline activity.\n",
    "The standardised response of SST neurons is slightly negative for unrewarded stimuli. This means that SST neurons slightly suppress their activity in response to unrewarded stimuli compared to baseline activity.\n",
    "3. Overall, VIP neurones are active specifically for rewarded stimuli and show hardly any changes in activity for non-rewarded stimuli. SST neurones are active both in response to rewarded stimuli and in response to unrewarded stimuli in a regulatory (inhibitory) manner."
   ]
  },
  {
   "cell_type": "markdown",
   "metadata": {},
   "source": [
    "## How do VIP and SST neural populations differ in their responses to change?"
   ]
  },
  {
   "cell_type": "markdown",
   "metadata": {},
   "source": [
    "Furthermore, the neuronal response of VIP and SST neurons to a change of stimulus can be analyzed. \n",
    "Stimulus changes (e.g., switching an image or introducing a new visual pattern) are behaviorally important because they often indicate something new or relevant in the environment. By analyzing how these neural populations react to changes (`is_change=True`) versus no change (`is_change=False`), we can better understand their roles in processing unexpected or novel events.\n",
    "- VIP neurons are known for their role in enhancing attention and amplifying responses to new or important stimuli. If VIP neurons respond more strongly to stimulus changes, it could indicate that they help the brain detect and focus on new information.\n",
    "- SST neurons play a stabilizing role in brain circuits, often by suppressing unnecessary activity. Their response to stimulus changes might reflect how the brain balances excitation and inhibition when processing novelty."
   ]
  },
  {
   "cell_type": "code",
   "execution_count": 43,
   "metadata": {},
   "outputs": [],
   "source": [
    "# for each group calculate the mean response to change and no change stimuli along with the standard deviation and sample size\n",
    "change_vip = vip_data.groupby('is_change')['standardized_response'].agg(['mean', 'std', 'count']).reset_index()\n",
    "change_sst = sst_data.groupby('is_change')['standardized_response'].agg(['mean', 'std', 'count']).reset_index()\n",
    "\n",
    "change_vip['sem'] = change_vip.apply(calculate_sem, axis=1)\n",
    "change_sst['sem'] = change_sst.apply(calculate_sem, axis=1)"
   ]
  },
  {
   "cell_type": "code",
   "execution_count": 44,
   "metadata": {},
   "outputs": [
    {
     "data": {
      "image/png": "[encoded data removed]",
      "text/plain": [
       "<Figure size 1000x600 with 1 Axes>"
      ]
     },
     "metadata": {},
     "output_type": "display_data"
    }
   ],
   "source": [
    "# visualize the change-related neural activity\n",
    "plt.figure(figsize=(10, 6))\n",
    "\n",
    "bar_width = 0.35\n",
    "x = np.arange(len(change_vip['is_change']))\n",
    "\n",
    "# vip\n",
    "plt.bar(x - bar_width/2, change_vip['mean'], yerr=change_vip['sem'], \n",
    "        width=bar_width, label='VIP', color='blue', alpha=0.5, capsize=5)\n",
    "\n",
    "# ssi\n",
    "plt.bar(x + bar_width/2, change_sst['mean'], yerr=change_sst['sem'], \n",
    "        width=bar_width, label='SST', color='orange', alpha=0.5, capsize=5)\n",
    "\n",
    "plt.xlabel('Change')\n",
    "plt.ylabel('Standardized Mean Response')\n",
    "plt.title('Change-related neural-activity: VIP vs. SST')\n",
    "plt.xticks(x, ['False', 'True'])\n",
    "plt.legend()\n",
    "plt.tight_layout()\n",
    "plt.show()"
   ]
  },
  {
   "cell_type": "markdown",
   "metadata": {},
   "source": [
    "1. VIP neurons are less engaged when no change occurs, which aligns with their potential role in detecting behaviorally relevant stimuli.\n",
    "When a change occurred, VIP neurons show a slight positive response. This indicates their activity increases slightly above baseline in response to stimulus changes.\n",
    "2. When there was no change, SST neurons exhibit a strong negative response. This means their activity is substantially reduced below baseline in trials without changes.\n",
    "SST neurons may suppress unnecessary activity during predictable, unchanging conditions, reflecting their role in regulating overall network dynamics.\n",
    "When a change occurred, SST neurons show a strong positive response. They are highly responsive to stimulus changes, suggesting a prominent role in processing changes or maintaining network stability during unexpected events.\n",
    "3. Overall, VIP neurons play a moderate role in detecting changes, showing smaller increases in activity during stimulus changes and less suppression during unchanging conditions.\n",
    "On the other hand, SST neurons are more dynamic, with strong suppression during stable conditions and strong activation during changes. This suggests that SST neurons may act as regulators of network activity, responding robustly to both predictable and unexpected situations."
   ]
  },
  {
   "cell_type": "markdown",
   "metadata": {},
   "source": [
    "## Do VIP and SST neurons respond differently when visual stimuli are presented versus omitted?"
   ]
  },
  {
   "cell_type": "markdown",
   "metadata": {},
   "source": [
    "As we know, various images were shown to the mice in the experiment. Sometimes the pictures were also omitted in order to introduce something unexpected into the experiment and thus also to analyze the reaction of the mice.\n",
    "The following analysis investigates the differences in neural activity between conditions where visual stimuli (= images) are presented and where they are omitted. \n",
    "By comparing the mean responses of VIP and SST neurons in these scenarios, we aim to explore how these populations contribute to processing visual information and managing situations where expected stimuli are absent."
   ]
  },
  {
   "cell_type": "markdown",
   "metadata": {},
   "source": [
    "For this, as a first step we need to check how many different images were shown to the mice.\n",
    "Overall there are 16 different images with different themes (e. g. animal images, which we have further analyzed in another notebook) and in severall cases the images where omitted."
   ]
  },
  {
   "cell_type": "code",
   "execution_count": 45,
   "metadata": {},
   "outputs": [
    {
     "data": {
      "text/plain": [
       "image_name\n",
       "omitted    61733\n",
       "im031       6781\n",
       "im106       6762\n",
       "im045       6752\n",
       "im054       6702\n",
       "im073       6661\n",
       "im075       6618\n",
       "im000       6615\n",
       "im035       6610\n",
       "im085       4154\n",
       "im061       4141\n",
       "im077       4096\n",
       "im062       4048\n",
       "im065       4038\n",
       "im066       4008\n",
       "im069       3988\n",
       "im063       3988\n",
       "Name: count, dtype: int64"
      ]
     },
     "execution_count": 45,
     "metadata": {},
     "output_type": "execute_result"
    }
   ],
   "source": [
    "# check how many different images there are\n",
    "data[\"image_name\"].value_counts()"
   ]
  },
  {
   "cell_type": "code",
   "execution_count": 46,
   "metadata": {},
   "outputs": [
    {
     "name": "stderr",
     "output_type": "stream",
     "text": [
      "C:\\Users\\iside\\AppData\\Local\\Temp\\ipykernel_28744\\2510113263.py:2: SettingWithCopyWarning: \n",
      "A value is trying to be set on a copy of a slice from a DataFrame.\n",
      "Try using .loc[row_indexer,col_indexer] = value instead\n",
      "\n",
      "See the caveats in the documentation: https://pandas.pydata.org/pandas-docs/stable/user_guide/indexing.html#returning-a-view-versus-a-copy\n",
      "  vip_data['stimulus_type'] = vip_data['image_name'].apply(lambda x: 'image' if x != 'omitted' else 'omitted')\n",
      "C:\\Users\\iside\\AppData\\Local\\Temp\\ipykernel_28744\\2510113263.py:3: SettingWithCopyWarning: \n",
      "A value is trying to be set on a copy of a slice from a DataFrame.\n",
      "Try using .loc[row_indexer,col_indexer] = value instead\n",
      "\n",
      "See the caveats in the documentation: https://pandas.pydata.org/pandas-docs/stable/user_guide/indexing.html#returning-a-view-versus-a-copy\n",
      "  sst_data['stimulus_type'] = sst_data['image_name'].apply(lambda x: 'image' if x != 'omitted' else 'omitted')\n"
     ]
    }
   ],
   "source": [
    "# combine all images as a supergroup to compare them to the omitted group\n",
    "vip_data['stimulus_type'] = vip_data['image_name'].apply(lambda x: 'image' if x != 'omitted' else 'omitted')\n",
    "sst_data['stimulus_type'] = sst_data['image_name'].apply(lambda x: 'image' if x != 'omitted' else 'omitted')"
   ]
  },
  {
   "cell_type": "code",
   "execution_count": 47,
   "metadata": {},
   "outputs": [],
   "source": [
    "# group the data by stimulus_type (image vs. omitted) and calculate the mean value, the standard deviation and the standard error\n",
    "vip_summary = vip_data.groupby('stimulus_type')['standardized_response'].agg(['mean', 'std', 'count']).reset_index()\n",
    "vip_summary['sem'] = vip_summary['std'] / (vip_summary['count'] ** 0.5)\n",
    "\n",
    "sst_summary = sst_data.groupby('stimulus_type')['standardized_response'].agg(['mean', 'std', 'count']).reset_index()\n",
    "sst_summary['sem'] = sst_summary['std'] / (sst_summary['count'] ** 0.5)\n"
   ]
  },
  {
   "cell_type": "code",
   "execution_count": 48,
   "metadata": {},
   "outputs": [
    {
     "data": {
      "image/png": "[encoded data removed]",
      "text/plain": [
       "<Figure size 800x600 with 1 Axes>"
      ]
     },
     "metadata": {},
     "output_type": "display_data"
    }
   ],
   "source": [
    "# plotting the comparison\n",
    "x = np.arange(2) \n",
    "bar_width = 0.35\n",
    "\n",
    "plt.figure(figsize=(8, 6))\n",
    "plt.bar(x - bar_width / 2, vip_summary['mean'], yerr=vip_summary['sem'], width=bar_width, label='VIP', color='blue', alpha=0.7)\n",
    "plt.bar(x + bar_width / 2, sst_summary['mean'], yerr=sst_summary['sem'], width=bar_width, label='SST', color='orange', alpha=0.7)\n",
    "\n",
    "plt.xticks(x, ['Image', 'Omitted'])\n",
    "plt.xlabel('Stimulus Type')\n",
    "plt.ylabel('Mean Response')\n",
    "plt.title('Comparison of Image vs. Omitted: VIP vs. SST')\n",
    "plt.legend()\n",
    "plt.tight_layout()\n",
    "plt.show()"
   ]
  },
  {
   "cell_type": "markdown",
   "metadata": {},
   "source": [
    "1. During trials where images were shown, VIP neurons exhibit a slight positive response (just above 0). \n",
    "This means their activity increases slightly above their baseline activity when visual stimuli are present.\n",
    "VIP neurons are moderately responsive to the presence of visual stimuli, showing some activation but not as strong as SST neurons.\n",
    "During omitted trials, VIP neurons reduce their activity when no stimulus is presented, but the response is not extreme.\n",
    "2. SST neurons are highly responsive to the presence of visual stimuli, much more so than VIP neurons.\n",
    "They strongly suppress their activity when no stimulus is shown, suggesting a regulatory or inhibitory role during periods of inactivity.\n",
    "3. SST neurons show a much stronger response to visual stimuli compared to VIP neurons. This highlights their sensitivity to the presence of stimuli and their role in processing visual information.\n",
    "Furthermore, SST neurons show a much stronger suppression of activity compared to VIP neurons when stimuli are omitted. VIP neurons remain closer to their baseline, indicating they are less affected by the absence of a stimulus."
   ]
  }
 ],
 "metadata": {
  "kernelspec": {
   "display_name": "neuro_env",
   "language": "python",
   "name": "python3"
  },
  "language_info": {
   "codemirror_mode": {
    "name": "ipython",
    "version": 3
   },
   "file_extension": ".py",
   "mimetype": "text/x-python",
   "name": "python",
   "nbconvert_exporter": "python",
   "pygments_lexer": "ipython3",
   "version": "3.9.21"
  }
 },
 "nbformat": 4,
 "nbformat_minor": 2
}
